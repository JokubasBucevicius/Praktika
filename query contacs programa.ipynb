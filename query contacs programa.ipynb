{
 "cells": [
  {
   "cell_type": "code",
   "execution_count": 27,
   "id": "3ceeb14b",
   "metadata": {},
   "outputs": [
    {
     "name": "stdout",
     "output_type": "stream",
     "text": [
      "voronota query-contacts --match-first 'R<ASP>' --match-second 'R<DG,DT,DA,DC>' <r/hs/contacts/1eri_contacts.txt>r/hs/contacts/asp_dna/1eri_asp_dna_contacts.txt\n",
      "voronota query-contacts --match-first 'R<ASP>' --match-second 'R<DG,DT,DA,DC>' <r/hs/contacts/2fl3_contacts.txt>r/hs/contacts/asp_dna/2fl3_asp_dna_contacts.txt\n",
      "voronota query-contacts --match-first 'R<ASP>' --match-second 'R<DG,DT,DA,DC>' <r/hs/contacts/3m7k_contacts.txt>r/hs/contacts/asp_dna/3m7k_asp_dna_contacts.txt\n",
      "voronota query-contacts --match-first 'R<ASP>' --match-second 'R<DG,DT,DA,DC>' <r/hs/contacts/1bhm_contacts.txt>r/hs/contacts/asp_dna/1bhm_asp_dna_contacts.txt\n",
      "voronota query-contacts --match-first 'R<ASP>' --match-second 'R<DG,DT,DA,DC>' <r/hs/contacts/1iaw_contacts.txt>r/hs/contacts/asp_dna/1iaw_asp_dna_contacts.txt\n",
      "voronota query-contacts --match-first 'R<ASP>' --match-second 'R<DG,DT,DA,DC>' <r/hs/contacts/4abt_contacts.txt>r/hs/contacts/asp_dna/4abt_asp_dna_contacts.txt\n",
      "voronota query-contacts --match-first 'R<ASP>' --match-second 'R<DG,DT,DA,DC>' <r/hs/contacts/3fc3_contacts.txt>r/hs/contacts/asp_dna/3fc3_asp_dna_contacts.txt\n",
      "voronota query-contacts --match-first 'R<ASP>' --match-second 'R<DG,DT,DA,DC>' <r/hs/contacts/1dc1_contacts.txt>r/hs/contacts/asp_dna/1dc1_asp_dna_contacts.txt\n",
      "voronota query-contacts --match-first 'R<ASP>' --match-second 'R<DG,DT,DA,DC>' <r/hs/contacts/3ndh_contacts.txt>r/hs/contacts/asp_dna/3ndh_asp_dna_contacts.txt\n",
      "voronota query-contacts --match-first 'R<ASP>' --match-second 'R<DG,DT,DA,DC>' <r/hs/contacts/3gox_contacts.txt>r/hs/contacts/asp_dna/3gox_asp_dna_contacts.txt\n",
      "voronota query-contacts --match-first 'R<ASP>' --match-second 'R<DG,DT,DA,DC>' <r/hs/contacts/3dvo_contacts.txt>r/hs/contacts/asp_dna/3dvo_asp_dna_contacts.txt\n",
      "voronota query-contacts --match-first 'R<ASP>' --match-second 'R<DG,DT,DA,DC>' <r/hs/contacts/2oaa_contacts.txt>r/hs/contacts/asp_dna/2oaa_asp_dna_contacts.txt\n",
      "voronota query-contacts --match-first 'R<ASP>' --match-second 'R<DG,DT,DA,DC>' <r/hs/contacts/1wte_contacts.txt>r/hs/contacts/asp_dna/1wte_asp_dna_contacts.txt\n",
      "voronota query-contacts --match-first 'R<ASP>' --match-second 'R<DG,DT,DA,DC>' <r/hs/contacts/3hqf_contacts.txt>r/hs/contacts/asp_dna/3hqf_asp_dna_contacts.txt\n",
      "voronota query-contacts --match-first 'R<ASP>' --match-second 'R<DG,DT,DA,DC>' <r/hs/contacts/1vrr_contacts.txt>r/hs/contacts/asp_dna/1vrr_asp_dna_contacts.txt\n",
      "voronota query-contacts --match-first 'R<ASP>' --match-second 'R<DG,DT,DA,DC>' <r/hs/contacts/1yfi_contacts.txt>r/hs/contacts/asp_dna/1yfi_asp_dna_contacts.txt\n",
      "voronota query-contacts --match-first 'R<ASP>' --match-second 'R<DG,DT,DA,DC>' <r/hs/contacts/4rdm_contacts.txt>r/hs/contacts/asp_dna/4rdm_asp_dna_contacts.txt\n",
      "voronota query-contacts --match-first 'R<ASP>' --match-second 'R<DG,DT,DA,DC>' <r/hs/contacts/3c25_contacts.txt>r/hs/contacts/asp_dna/3c25_asp_dna_contacts.txt\n",
      "voronota query-contacts --match-first 'R<ASP>' --match-second 'R<DG,DT,DA,DC>' <r/hs/contacts/2e52_contacts.txt>r/hs/contacts/asp_dna/2e52_asp_dna_contacts.txt\n",
      "voronota query-contacts --match-first 'R<ASP>' --match-second 'R<DG,DT,DA,DC>' <r/hs/contacts/1pvi_contacts.txt>r/hs/contacts/asp_dna/1pvi_asp_dna_contacts.txt\n",
      "voronota query-contacts --match-first 'R<ASP>' --match-second 'R<DG,DT,DA,DC>' <r/hs/contacts/1d2i_contacts.txt>r/hs/contacts/asp_dna/1d2i_asp_dna_contacts.txt\n",
      "voronota query-contacts --match-first 'R<ASP>' --match-second 'R<DG,DT,DA,DC>' <r/hs/contacts/3oqg_contacts.txt>r/hs/contacts/asp_dna/3oqg_asp_dna_contacts.txt\n",
      "voronota query-contacts --match-first 'R<ASP>' --match-second 'R<DG,DT,DA,DC>' <r/hs/contacts/1kc6_contacts.txt>r/hs/contacts/asp_dna/1kc6_asp_dna_contacts.txt\n"
     ]
    }
   ],
   "source": [
    "import pandas as pd\n",
    "import sys\n",
    "\n",
    "ids = open('baltymai/hs_id_sutvarkytas.txt')\n",
    "ids = ids.readlines()\n",
    "ids = [n.replace('\\n','') for n in ids]\n",
    "ids = list(set(ids))\n",
    "\n",
    "for id in ids:\n",
    "        base_command = f\"voronota query-contacts --match-first 'R<ASP>' --match-second 'R<DG,DT,DA,DC>' <r/hs/contacts/{id}_contacts.txt>r/hs/contacts/asp_dna/{id}_asp_dna_contacts.txt\"\n",
    "        print(base_command)\n",
    "\n",
    "    \n",
    "\n"
   ]
  },
  {
   "cell_type": "code",
   "execution_count": null,
   "id": "39e51d6c",
   "metadata": {},
   "outputs": [],
   "source": []
  }
 ],
 "metadata": {
  "kernelspec": {
   "display_name": "Python 3 (ipykernel)",
   "language": "python",
   "name": "python3"
  },
  "language_info": {
   "codemirror_mode": {
    "name": "ipython",
    "version": 3
   },
   "file_extension": ".py",
   "mimetype": "text/x-python",
   "name": "python",
   "nbconvert_exporter": "python",
   "pygments_lexer": "ipython3",
   "version": "3.10.7"
  }
 },
 "nbformat": 4,
 "nbformat_minor": 5
}
