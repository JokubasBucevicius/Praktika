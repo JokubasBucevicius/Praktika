{
 "cells": [
  {
   "cell_type": "code",
   "execution_count": 17,
   "id": "697d49a2",
   "metadata": {
    "scrolled": true
   },
   "outputs": [
    {
     "name": "stdout",
     "output_type": "stream",
     "text": [
      "voronota calculate-contacts --annotated < rugsejis/hs/3imb_balls.txt > rugsejis/hs/contacts/3imb_contacts.txt\n",
      "voronota calculate-contacts --annotated < rugsejis/hs/1iaw_balls.txt > rugsejis/hs/contacts/1iaw_contacts.txt\n",
      "voronota calculate-contacts --annotated < rugsejis/hs/2fl3_balls.txt > rugsejis/hs/contacts/2fl3_contacts.txt\n",
      "voronota calculate-contacts --annotated < rugsejis/hs/3hqf_balls.txt > rugsejis/hs/contacts/3hqf_contacts.txt\n",
      "voronota calculate-contacts --annotated < rugsejis/hs/2oaa_balls.txt > rugsejis/hs/contacts/2oaa_contacts.txt\n",
      "voronota calculate-contacts --annotated < rugsejis/hs/1dc1_balls.txt > rugsejis/hs/contacts/1dc1_contacts.txt\n",
      "voronota calculate-contacts --annotated < rugsejis/hs/1pvi_balls.txt > rugsejis/hs/contacts/1pvi_contacts.txt\n",
      "voronota calculate-contacts --annotated < rugsejis/hs/3fc3_balls.txt > rugsejis/hs/contacts/3fc3_contacts.txt\n",
      "voronota calculate-contacts --annotated < rugsejis/hs/3dvo_balls.txt > rugsejis/hs/contacts/3dvo_contacts.txt\n",
      "voronota calculate-contacts --annotated < rugsejis/hs/1eri_balls.txt > rugsejis/hs/contacts/1eri_contacts.txt\n",
      "voronota calculate-contacts --annotated < rugsejis/hs/1bhm_balls.txt > rugsejis/hs/contacts/1bhm_contacts.txt\n",
      "voronota calculate-contacts --annotated < rugsejis/hs/3ndh_balls.txt > rugsejis/hs/contacts/3ndh_contacts.txt\n",
      "voronota calculate-contacts --annotated < rugsejis/hs/1kc6_balls.txt > rugsejis/hs/contacts/1kc6_contacts.txt\n",
      "voronota calculate-contacts --annotated < rugsejis/hs/4abt_balls.txt > rugsejis/hs/contacts/4abt_contacts.txt\n",
      "voronota calculate-contacts --annotated < rugsejis/hs/4rdm_balls.txt > rugsejis/hs/contacts/4rdm_contacts.txt\n",
      "voronota calculate-contacts --annotated < rugsejis/hs/3oqg_balls.txt > rugsejis/hs/contacts/3oqg_contacts.txt\n",
      "voronota calculate-contacts --annotated < rugsejis/hs/1yfi_balls.txt > rugsejis/hs/contacts/1yfi_contacts.txt\n",
      "voronota calculate-contacts --annotated < rugsejis/hs/3gox_balls.txt > rugsejis/hs/contacts/3gox_contacts.txt\n",
      "voronota calculate-contacts --annotated < rugsejis/hs/3c25_balls.txt > rugsejis/hs/contacts/3c25_contacts.txt\n",
      "voronota calculate-contacts --annotated < rugsejis/hs/1vrr_balls.txt > rugsejis/hs/contacts/1vrr_contacts.txt\n",
      "voronota calculate-contacts --annotated < rugsejis/hs/3m7k_balls.txt > rugsejis/hs/contacts/3m7k_contacts.txt\n",
      "voronota calculate-contacts --annotated < rugsejis/hs/1d2i_balls.txt > rugsejis/hs/contacts/1d2i_contacts.txt\n",
      "voronota calculate-contacts --annotated < rugsejis/hs/1wte_balls.txt > rugsejis/hs/contacts/1wte_contacts.txt\n",
      "voronota calculate-contacts --annotated < rugsejis/hs/2e52_balls.txt > rugsejis/hs/contacts/2e52_contacts.txt\n"
     ]
    }
   ],
   "source": [
    "import pandas as pd\n",
    "import sys\n",
    "# Source of ids\n",
    "ids = open('baltymai/hs_id_sutvarkytas.txt')\n",
    "ids = ids.readlines()\n",
    "ids = [n.replace('\\n','') for n in ids]\n",
    "ids = list(set(ids))\n",
    "    \n",
    "# Define the base command\n",
    "#base_command = [\"voronota get-balls-from-atoms-file --annotated --input-format mmcif\"]\n",
    "#base_command = [\"voronota calculate-contacts --annotated\"]\n",
    "\n",
    "\n",
    "# Iterate through each ID and run the command\n",
    "for id in ids:\n",
    "    input_file = f\"rugsejis/hs/{id}_balls.txt\"\n",
    "    output_file = f\"rugsejis/hs/contacts/{id}_contacts.txt\"\n",
    "    \n",
    "    # Construct the full command\n",
    "    full_command = base_command + [\"<\" , input_file, \">\", output_file]\n",
    "    command_str = \" \".join(full_command)\n",
    "    print(command_str)\n",
    "    \n",
    "    "
   ]
  },
  {
   "cell_type": "code",
   "execution_count": null,
   "id": "b15303b3",
   "metadata": {},
   "outputs": [],
   "source": []
  },
  {
   "cell_type": "code",
   "execution_count": null,
   "id": "150041a3",
   "metadata": {},
   "outputs": [],
   "source": []
  },
  {
   "cell_type": "code",
   "execution_count": null,
   "id": "9bbe6137",
   "metadata": {},
   "outputs": [],
   "source": []
  },
  {
   "cell_type": "code",
   "execution_count": null,
   "id": "8b26c98c",
   "metadata": {},
   "outputs": [],
   "source": []
  }
 ],
 "metadata": {
  "kernelspec": {
   "display_name": "Python 3 (ipykernel)",
   "language": "python",
   "name": "python3"
  },
  "language_info": {
   "codemirror_mode": {
    "name": "ipython",
    "version": 3
   },
   "file_extension": ".py",
   "mimetype": "text/x-python",
   "name": "python",
   "nbconvert_exporter": "python",
   "pygments_lexer": "ipython3",
   "version": "3.10.7"
  }
 },
 "nbformat": 4,
 "nbformat_minor": 5
}
