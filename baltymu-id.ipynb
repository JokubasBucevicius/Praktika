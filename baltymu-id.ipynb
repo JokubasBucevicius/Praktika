{
 "cells": [
  {
   "cell_type": "code",
   "execution_count": 1,
   "id": "814e00ad",
   "metadata": {},
   "outputs": [],
   "source": [
    "\n",
    "import pandas as pd\n",
    "import numpy as np\n",
    "import sys\n",
    "\n",
    "df = pd.read_csv('baltymai/hs_id.txt', sep = (':'))\n",
    "df.columns = ['pirma', 'antra']\n",
    "df = df['pirma'].str.split(expand=True)\n",
    "output =(df.iloc[:, 1]).to_string(index=False)\n",
    "\n",
    "\n",
    "file_path = 'baltymai/hs_id_sutvarkytas.txt'\n",
    "sys.stdout = open(file_path, \"a\")\n",
    "print(output)\n",
    "\n",
    "\n",
    "\n",
    "\n",
    "\n",
    "\n",
    "\n"
   ]
  },
  {
   "cell_type": "code",
   "execution_count": null,
   "id": "91a3e900",
   "metadata": {},
   "outputs": [],
   "source": []
  },
  {
   "cell_type": "code",
   "execution_count": null,
   "id": "124656cf",
   "metadata": {},
   "outputs": [],
   "source": []
  }
 ],
 "metadata": {
  "kernelspec": {
   "display_name": "Python 3 (ipykernel)",
   "language": "python",
   "name": "python3"
  },
  "language_info": {
   "codemirror_mode": {
    "name": "ipython",
    "version": 3
   },
   "file_extension": ".py",
   "mimetype": "text/x-python",
   "name": "python",
   "nbconvert_exporter": "python",
   "pygments_lexer": "ipython3",
   "version": "3.10.7"
  }
 },
 "nbformat": 4,
 "nbformat_minor": 5
}
